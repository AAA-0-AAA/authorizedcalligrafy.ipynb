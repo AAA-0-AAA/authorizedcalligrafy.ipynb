[
    {
        "onix": {
            "RecordReference": "9784789554428",
            "NotificationType": "03",
            "ProductIdentifier": {
                "ProductIDType": "15",
                "IDValue": "9784789554428"
            },
            "DescriptiveDetail": {
                "ProductComposition": "00",
                "ProductForm": "BA",
                "ProductFormDetail": "B108",
                "Measure": [
                    {
                        "MeasureType": "01",
                        "Measurement": "21",
                        "MeasureUnitCode": "mm"
                    }
                ],
                "TitleDetail": {
                    "TitleType": "01",
                    "TitleElement": {
                        "TitleElementLevel": "01",
                        "TitleText": {
                            "collationkey": "ササキサトシノエイヨウデータハコウヨム",
                            "content": "佐々木敏の栄養データはこう読む!"
                        },
                        "Subtitle": {
                            "collationkey": "",
                            "content": "疫学研究から読み解くぶれない食べ方"
                        }
                    }
                },
                "Contributor": [
                    {
                        "SequenceNumber": "1",
                        "ContributorRole": [
                            "A01"
                        ],
                        "PersonName": {
                            "content": "佐々木 敏"
                        }
                    }
                ],
                "Language": [
                    {
                        "LanguageRole": "01",
                        "LanguageCode": "jpn",
                        "CountryCode": "JP"
                    }
                ],
                "Extent": [
                    {
                        "ExtentType": "11",
                        "ExtentValue": "335",
                        "ExtentUnit": "03"
                    }
                ],
                "Subject": [
                    {
                        "MainSubject": "",
                        "SubjectSchemeIdentifier": "78",
                        "SubjectCode": "3047"
                    },
                    {
                        "SubjectSchemeIdentifier": "20",
                        "SubjectHeadingText": "栄養;情報;健康情報;データ"
                    }
                ],
                "Audience": [
                    {
                        "AudienceCodeType": "22",
                        "AudienceCodeValue": "00"
                    }
                ]
            },
            "CollateralDetail": {
                "TextContent": [
                    {
                        "TextType": "03",
                        "ContentAudience": "00",
                        "Text": "「和食」は本当に健康食か?ダイエットは糖質か脂質か?栄養健康情報はなぜゆがむのか?「根拠に基づく栄養学」がその問いに答えます。日本の栄養疫学研究をリードし未来を切り拓く佐々木敏さんが、疫学研究データから食べ物(栄養)と健康のつながりを読みときます。"
                    },
                    {
                        "TextType": "04",
                        "ContentAudience": "00",
                        "Text": "第1章 こんなにややこしい?!あぶらと脂質異常症の関係\n1 コレステロール値を下げるには\n2 揚げ物と高コレステロール血症\n3 トランス型脂肪酸の問題点\n4 中性脂肪を上げない食べ方\n5 コレステロールと寿命の関係\n\n第2章 こんなに大問題?!食塩と高血圧\n1 生活習慣病対策のためのアクション\n2 あなた自身の減塩の必要性\n3 歴史の中での食塩の役割\n4 日本人と減塩\n5 日本人のカリウム摂取の特徴\n\n第3章 不思議がいっぱい!肥満問題\n1 人は食べたものを忘れる動物である\n2 肥満と食べ方の深い関係\n3 甘い飲み物はなぜ健康によくないのか？\n4 朝食の健康影響\n5 理想的なBMIの値とは？\n\n第4章 呑んべえ必読!お酒、なにをどれくらい、どのように飲むか\n1 健康によいお酒とは\n2 「適量」を科学する\n3 プリン体と痛風の関係\n\n第5章 究極の健康食?地中海食から糖尿病管理まで\n1 地中海食は和食より健康的か？\n2 低炭水化物食の真実\n3 糖尿病と食物繊維\n4 高たんぱく質食の糖尿病への効果\n\n第6章 あなた自身が試される!「栄養健康リテラシー」の時代\n1 科学と非化学の境目としての「出典」の意味と価値\n2 栄養健康情報と利益相反\n3 栄養健康情報はここでゆがむ\n4 研究蓄積量と栄養健康情報"
                    }
                ],
                "SupportingResource": [
                    {
                        "ResourceContentType": "01",
                        "ContentAudience": "01",
                        "ResourceMode": "03",
                        "ResourceVersion": [
                            {
                                "ResourceForm": "02",
                                "ResourceVersionFeature": [
                                    {
                                        "ResourceVersionFeatureType": "01",
                                        "FeatureValue": "D502"
                                    },
                                    {
                                        "ResourceVersionFeatureType": "04",
                                        "FeatureValue": "9784789554428.jpg"
                                    }
                                ],
                                "ResourceLink": "https://cover.openbd.jp/9784789554428.jpg"
                            }
                        ]
                    }
                ]
            },
            "PublishingDetail": {
                "Imprint": {
                    "ImprintIdentifier": [
                        {
                            "ImprintIDType": "24",
                            "IDValue": "3250"
                        },
                        {
                            "ImprintIDType": "19",
                            "IDValue": "7895"
                        }
                    ],
                    "ImprintName": "女子栄養大学出版部"
                },
                "Publisher": {
                    "PublishingRole": "01",
                    "PublisherIdentifier": [
                        {
                            "PublisherIDType": "24",
                            "IDValue": "3250"
                        },
                        {
                            "PublisherIDType": "19",
                            "IDValue": "7895"
                        }
                    ],
                    "PublisherName": "女子栄養大学出版部"
                },
                "PublishingDate": [
                    {
                        "PublishingDateRole": "01",
                        "Date": "20150410"
                    },
                    {
                        "PublishingDateRole": "11",
                        "Date": "20150410"
                    }
                ]
            },
            "ProductSupply": {
                "MarketPublishingDetail": {
                    "MarketPublishingStatus": "00",
                    "MarketPublishingStatusNote": "1;"
                },
                "SupplyDetail": {
                    "ProductAvailability": "99",
                    "Price": [
                        {
                            "PriceType": "01",
                            "PriceAmount": "2500",
                            "CurrencyCode": "JPY"
                        }
                    ]
                }
            }
        },
        "hanmoto": {
            "genshomei": "",
            "han": "",
            "datezeppan": "",
            "toji": "",
            "zaiko": 11,
            "jushoujouhou": "",
            "zasshicode": "",
            "hatsubai": "",
            "hatsubaiyomi": "",
            "storelink": "",
            "author": [
                {
                    "listseq": 1,
                    "dokujikubun": "著"
                }
            ],
            "datemodified": "2018-11-02 12:23:38",
            "datecreated": "2015-08-20 11:46:53",
            "kanrenshoisbn": "9784789554497",
            "reviews": [
                {
                    "post_user": "genkina",
                    "reviewer": "",
                    "source_id": 29,
                    "kubun_id": 1,
                    "source": "毎日新聞",
                    "choyukan": "",
                    "han": "",
                    "link": "",
                    "appearance": "2015-06-28",
                    "gou": ""
                }
            ],
            "hanmotoinfo": {
                "name": "女子栄養大学出版部",
                "yomi": "ジョシエイヨウダイガクシュッパンブ",
                "url": "https://eiyo21.com/",
                "twitter": "https://twitter.com/eiyodaishuppan",
                "facebook": "https://www.facebook.com/jyoshieiyoudaigakusyupanbu/",
                "chokutori": "1",
                "toritsugitorikyo": "",
                "toritsugisonota": "",
                "eigyoudaihyousha": "",
                "phoneshoten": "03-3918-5411",
                "facsimileshoten": "03-3918-5591",
                "emailshoten": "keigyo@eiyo.ac.jp",
                "ordersitesonota": "",
                "ordersitejisha": "",
                "henpin": ""
            },
            "dateshuppan": "2015-04"
        },
        "summary": {
            "isbn": "9784789554428",
            "title": "佐々木敏の栄養データはこう読む!",
            "volume": "",
            "series": "",
            "publisher": "女子栄養大学出版部",
            "pubdate": "20150410",
            "cover": "https://cover.openbd.jp/9784789554428.jpg",
            "author": "佐々木敏／著"
        }
    }
]